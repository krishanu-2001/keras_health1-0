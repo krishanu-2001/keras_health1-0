{
  "nbformat": 4,
  "nbformat_minor": 0,
  "metadata": {
    "colab": {
      "name": "keras1.0.ipynb",
      "provenance": [],
      "collapsed_sections": [],
      "authorship_tag": "ABX9TyOryT2vp2q5iguVY7/nPd+q",
      "include_colab_link": true
    },
    "kernelspec": {
      "name": "python3",
      "display_name": "Python 3"
    },
    "accelerator": "GPU"
  },
  "cells": [
    {
      "cell_type": "markdown",
      "metadata": {
        "id": "view-in-github",
        "colab_type": "text"
      },
      "source": [
        "<a href=\"https://colab.research.google.com/github/krishanu-2001/keras_health1-0/blob/main/keras1_0.ipynb\" target=\"_parent\"><img src=\"https://colab.research.google.com/assets/colab-badge.svg\" alt=\"Open In Colab\"/></a>"
      ]
    },
    {
      "cell_type": "code",
      "metadata": {
        "id": "vOo2XvIiGYVJ"
      },
      "source": [
        "import numpy as np\n",
        "from random import randint\n",
        "from sklearn.utils import shuffle\n",
        "from sklearn.preprocessing import MinMaxScaler"
      ],
      "execution_count": 1,
      "outputs": []
    },
    {
      "cell_type": "code",
      "metadata": {
        "id": "r49RRuoAG4yc"
      },
      "source": [
        "train_labels = []\n",
        "train_samples = []"
      ],
      "execution_count": 2,
      "outputs": []
    },
    {
      "cell_type": "markdown",
      "metadata": {
        "id": "3oZ5PSoUHAi2"
      },
      "source": [
        "# Experimental drug was tested on individual  \n",
        " 13yrs to 100 yrs\n",
        "2100 participants  \n",
        "5% of 65+ experience side effects  \n",
        "5% of 65- experience side effects"
      ]
    },
    {
      "cell_type": "code",
      "metadata": {
        "id": "Y5iJLonMG877"
      },
      "source": [
        "for i in range(50):\n",
        "  # the 5 % who experience side effects\n",
        "  random_younger = randint(13,65)\n",
        "  train_samples.append(random_younger)\n",
        "  train_labels.append(0)\n",
        "\n",
        "for i in range(50):\n",
        "  # the 5 % who experience side effects\n",
        "  random_older = randint(65,100)\n",
        "  train_samples.append(random_older)\n",
        "  train_labels.append(1)\n",
        "\n",
        "for i in range(1000):\n",
        "  # the 5 % who experience side effects\n",
        "  random_younger = randint(13,65)\n",
        "  train_samples.append(random_younger)\n",
        "  train_labels.append(1)\n",
        "\n",
        "for i in range(1000):\n",
        "  # the 5 % who experience side effects\n",
        "  random_older = randint(65,100)\n",
        "  train_samples.append(random_older)\n",
        "  train_labels.append(0)"
      ],
      "execution_count": 3,
      "outputs": []
    },
    {
      "cell_type": "code",
      "metadata": {
        "id": "mKW-oM23Ig7p"
      },
      "source": [
        "res = \"\\n\".join(\"{} {}\".format(x, y) for x, y in zip(train_samples, train_labels))\n",
        "print(res)"
      ],
      "execution_count": null,
      "outputs": []
    },
    {
      "cell_type": "code",
      "metadata": {
        "id": "RwosuvJhKmd9"
      },
      "source": [
        "train_labels = np.array(train_labels)\n",
        "train_samples = np.array(train_samples)\n",
        "train_labels, train_samples = shuffle(train_labels, train_samples)"
      ],
      "execution_count": 5,
      "outputs": []
    },
    {
      "cell_type": "code",
      "metadata": {
        "id": "A0JxIs5SLH1N"
      },
      "source": [
        "scaler = MinMaxScaler(feature_range=(0,1))\n",
        "scaled_training_samples = scaler.fit_transform(train_samples.reshape(-1,1))\n"
      ],
      "execution_count": 6,
      "outputs": []
    },
    {
      "cell_type": "code",
      "metadata": {
        "id": "NxwrWfh_ufnO"
      },
      "source": [
        "for i in scaled_training_samples:\n",
        "  print(i)"
      ],
      "execution_count": null,
      "outputs": []
    },
    {
      "cell_type": "code",
      "metadata": {
        "id": "XxLWXMysvMrN"
      },
      "source": [
        " import tensorflow as tf\n",
        " from tensorflow import keras\n",
        " from tensorflow.keras.models import Sequential\n",
        " from tensorflow.keras.layers import Activation, Dense\n",
        " from tensorflow.keras.optimizers import Adam\n",
        " from tensorflow.keras.metrics import categorical_crossentropy"
      ],
      "execution_count": 8,
      "outputs": []
    },
    {
      "cell_type": "code",
      "metadata": {
        "id": "5tIpjyN62FIP",
        "outputId": "b02a0713-fd72-441f-b84d-07bfec43ab5a",
        "colab": {
          "base_uri": "https://localhost:8080/"
        }
      },
      "source": [
        "physical_devices = tf.config.experimental.list_physical_devices('GPU')\n",
        "print(\"number of gpus available: \", len(physical_devices))\n",
        "try:\n",
        "  tf.config.experimental.set_memory_growth(physical_devices[0], True)\n",
        "except:\n",
        "  print(\"no gpu found\")"
      ],
      "execution_count": 9,
      "outputs": [
        {
          "output_type": "stream",
          "text": [
            "number of gpus available:  1\n"
          ],
          "name": "stdout"
        }
      ]
    },
    {
      "cell_type": "code",
      "metadata": {
        "id": "hDCxBiRz2h6t"
      },
      "source": [
        "model = Sequential([\n",
        "  Dense(units=16, input_shape=(1,), activation='relu'),\n",
        "  Dense(units=32, input_shape=(1,), activation='relu'),\n",
        "  Dense(units=2, input_shape=(1,), activation='softmax')\n",
        "\n",
        "])"
      ],
      "execution_count": 12,
      "outputs": []
    },
    {
      "cell_type": "code",
      "metadata": {
        "id": "m0phi7Bc4dE7",
        "outputId": "d248a7d8-a942-4a5c-bddd-99e4158c4249",
        "colab": {
          "base_uri": "https://localhost:8080/"
        }
      },
      "source": [
        "model.summary()"
      ],
      "execution_count": 14,
      "outputs": [
        {
          "output_type": "stream",
          "text": [
            "Model: \"sequential\"\n",
            "_________________________________________________________________\n",
            "Layer (type)                 Output Shape              Param #   \n",
            "=================================================================\n",
            "dense (Dense)                (None, 16)                32        \n",
            "_________________________________________________________________\n",
            "dense_1 (Dense)              (None, 32)                544       \n",
            "_________________________________________________________________\n",
            "dense_2 (Dense)              (None, 2)                 66        \n",
            "=================================================================\n",
            "Total params: 642\n",
            "Trainable params: 642\n",
            "Non-trainable params: 0\n",
            "_________________________________________________________________\n"
          ],
          "name": "stdout"
        }
      ]
    },
    {
      "cell_type": "code",
      "metadata": {
        "id": "Ocjlkr7E6Es7"
      },
      "source": [
        "model.compile(optimizer=Adam(learning_rate=0.001), loss='sparse_categorical_crossentropy', metrics=['accuracy'])"
      ],
      "execution_count": 15,
      "outputs": []
    },
    {
      "cell_type": "code",
      "metadata": {
        "id": "fPM21USq6j7C"
      },
      "source": [
        "model.fit(x=scaled_training_samples, y=train_labels, validation_split=0.1, batch_size=10, epochs=30, shuffle=True, verbose=2)"
      ],
      "execution_count": null,
      "outputs": []
    },
    {
      "cell_type": "markdown",
      "metadata": {
        "id": "xtte_0gL93xF"
      },
      "source": [
        "# Lets create test data now!!!"
      ]
    },
    {
      "cell_type": "code",
      "metadata": {
        "id": "_JlPxSzn6yOk"
      },
      "source": [
        "test_samples = []\n",
        "test_labels = []"
      ],
      "execution_count": 20,
      "outputs": []
    },
    {
      "cell_type": "code",
      "metadata": {
        "id": "uIF3O7I4-M08"
      },
      "source": [
        "for i in range(50):\n",
        "  # the 5 % who experience side effects\n",
        "  random_younger = randint(13,65)\n",
        "  test_samples.append(random_younger)\n",
        "  test_labels.append(0)\n",
        "\n",
        "for i in range(50):\n",
        "  # the 5 % who experience side effects\n",
        "  random_older = randint(65,100)\n",
        "  test_samples.append(random_older)\n",
        "  test_labels.append(1)\n",
        "\n",
        "for i in range(1000):\n",
        "  # the 5 % who experience side effects\n",
        "  random_younger = randint(13,65)\n",
        "  test_samples.append(random_younger)\n",
        "  test_labels.append(1)\n",
        "\n",
        "for i in range(1000):\n",
        "  # the 5 % who experience side effects\n",
        "  random_older = randint(65,100)\n",
        "  test_samples.append(random_older)\n",
        "  test_labels.append(0)"
      ],
      "execution_count": 22,
      "outputs": []
    },
    {
      "cell_type": "code",
      "metadata": {
        "id": "xHb2yUmM-cZp"
      },
      "source": [
        "test_labels = np.array(test_labels)\n",
        "test_samples = np.array(test_samples)\n",
        "test_labels, test_samples = shuffle(test_labels, test_samples)"
      ],
      "execution_count": 23,
      "outputs": []
    },
    {
      "cell_type": "code",
      "metadata": {
        "id": "m_hYV451-klF"
      },
      "source": [
        "scaled_test_samples = scaler.fit_transform(test_samples.reshape(-1,1))"
      ],
      "execution_count": 24,
      "outputs": []
    },
    {
      "cell_type": "code",
      "metadata": {
        "id": "GNyhvW5d-qlD"
      },
      "source": [
        "for i in scaled_training_samples:\n",
        "  print(i)"
      ],
      "execution_count": null,
      "outputs": []
    },
    {
      "cell_type": "markdown",
      "metadata": {
        "id": "hv1ArB8T_UNA"
      },
      "source": [
        "# Predict now"
      ]
    },
    {
      "cell_type": "code",
      "metadata": {
        "id": "h_2YugoT-syp"
      },
      "source": [
        "prediction = model.predict(x = scaled_test_samples, batch_size=10, verbose=0)\n"
      ],
      "execution_count": 26,
      "outputs": []
    },
    {
      "cell_type": "code",
      "metadata": {
        "id": "2I95Plef_dPD"
      },
      "source": [
        "for i in prediction:\n",
        "  print(i)"
      ],
      "execution_count": null,
      "outputs": []
    },
    {
      "cell_type": "code",
      "metadata": {
        "id": "rb159hcD_hL9"
      },
      "source": [
        "rounded_predictions = np.argmax(prediction, axis=-1)"
      ],
      "execution_count": 29,
      "outputs": []
    },
    {
      "cell_type": "code",
      "metadata": {
        "id": "F745d78s_tIH"
      },
      "source": [
        "for i in rounded_predictions:\n",
        "  print(i)"
      ],
      "execution_count": null,
      "outputs": []
    },
    {
      "cell_type": "code",
      "metadata": {
        "id": "0u-gEfu__x-d"
      },
      "source": [
        ""
      ],
      "execution_count": null,
      "outputs": []
    }
  ]
}